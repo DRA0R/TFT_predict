{
  "nbformat": 4,
  "nbformat_minor": 0,
  "metadata": {
    "colab": {
      "name": "tft_prediccion_cartas_borrador.ipynb",
      "provenance": [],
      "collapsed_sections": [],
      "authorship_tag": "ABX9TyNu4/xyRCx/MShyog37uX6y",
      "include_colab_link": true
    },
    "kernelspec": {
      "name": "python3",
      "display_name": "Python 3"
    },
    "language_info": {
      "name": "python"
    }
  },
  "cells": [
    {
      "cell_type": "markdown",
      "metadata": {
        "id": "view-in-github",
        "colab_type": "text"
      },
      "source": [
        "<a href=\"https://colab.research.google.com/github/DRA0R/TFT_predict/blob/main/tft_prediccion_cartas_borrador.ipynb\" target=\"_parent\"><img src=\"https://colab.research.google.com/assets/colab-badge.svg\" alt=\"Open In Colab\"/></a>"
      ]
    },
    {
      "cell_type": "code",
      "execution_count": null,
      "metadata": {
        "id": "ITpx_dRJz7QC"
      },
      "outputs": [],
      "source": [
        ""
      ]
    },
    {
      "cell_type": "code",
      "source": [
        "#Predecir campeones TFT"
      ],
      "metadata": {
        "id": "MlN3cLmKsJzb"
      },
      "execution_count": null,
      "outputs": []
    },
    {
      "cell_type": "code",
      "source": [
        "tier_1 = {'brand', 'caitlyn', 'camile', 'darius', 'ezreal', 'illaoi', 'jarvaniv', 'kassadin', 'nocturne', 'poppy', 'singed', 'twitch', 'ziggs'}\n",
        "tier_2 = {'ashe', 'blitzcrank', 'corki', 'lulu', 'quinn', 'reksai', 'sejuani', 'swain', 'syndra', 'talon', 'warwick', 'zilean', 'zyra'}\n",
        "tier_3 = {'chogath', 'ekko', 'gangplank', 'gnar', 'leona', 'lucian', 'malzahar', 'missfortune', 'morgana', 'senna', 'tryndamere', 'vex', 'zac'}\n",
        "tier_4 = {'ahri', 'alistar', 'braum', 'draven', 'irelia', 'jhin', 'khazix', 'orinana', 'renata', 'seraphine', 'sivir', 'vi'}\n",
        "tier_5 = {'galio', 'jayce', 'jinx', 'kaisa', 'silco', 'tahmkench', 'veigar', 'viktor', 'zeri'}"
      ],
      "metadata": {
        "id": "1YQs1VsKsP5f"
      },
      "execution_count": 2,
      "outputs": []
    },
    {
      "cell_type": "code",
      "source": [
        "lvl_1 = {'tier_1' : 1.0,\n",
        "         'tier_1' : 0,\n",
        "         'tier_2' : 0,\n",
        "         'tier_3' : 0,\n",
        "         'tier_4' : 0,\n",
        "         'tier_5' : 0\n",
        "         }\n",
        "\n",
        "lvl_2 = {'tier_1' : 1.0,\n",
        "         'tier_1' : 0,\n",
        "         'tier_2' : 0,\n",
        "         'tier_3' : 0,\n",
        "         'tier_4' : 0,\n",
        "         'tier_5' : 0\n",
        "         }\n",
        "\n",
        "lvl_3 = {'tier_1' : 0.75,\n",
        "         'tier_2' : 0.25,\n",
        "         'tier_3' : 0,\n",
        "         'tier_4' : 0,\n",
        "         'tier_5' : 0\n",
        "         }\n",
        "\n",
        "lvl_4 = {'tier_1' : 0.55,\n",
        "         'tier_2' : 0.30,\n",
        "         'tier_3' : 0.15,\n",
        "         'tier_4' : 0,\n",
        "         'tier_5' : 0\n",
        "         }\n",
        "\n",
        "lvl_5 = {'tier_1' : 0.45,\n",
        "         'tier_2' : 0.33,\n",
        "         'tier_3' : 0.20,\n",
        "         'tier_4' : 0.02,\n",
        "         'tier_5' : 0\n",
        "         }\n",
        "         \n",
        "lvl_6 = {'tier_1' : 0.25,\n",
        "         'tier_2' : 0.40,\n",
        "         'tier_3' : 0.30,\n",
        "         'tier_4' : 0.5,\n",
        "         'tier_5' : 0\n",
        "         }\n",
        "\n",
        "lvl_7 = {'tier_1' : 0.19,\n",
        "         'tier_2' : 0.3,\n",
        "         'tier_3' : 0.35,\n",
        "         'tier_4' : 0.15,\n",
        "         'tier_5' : 0.01\n",
        "         }\n",
        "\n",
        "lvl_8 = {'tier_1' : 0.16,\n",
        "         'tier_2' : 0.20,\n",
        "         'tier_3' : 0.35,\n",
        "         'tier_4' : 0.25,\n",
        "         'tier_5' : 0.04\n",
        "         }\n",
        "\n",
        "lvl_9 = {'tier_1' : 0.10,\n",
        "         'tier_2' : 0.15,\n",
        "         'tier_3' : 0.35,\n",
        "         'tier_4' : 0.30,\n",
        "         'tier_5' : 0.1\n",
        "         }"
      ],
      "metadata": {
        "id": "X1JLFndunDX8"
      },
      "execution_count": 3,
      "outputs": []
    },
    {
      "cell_type": "code",
      "source": [
        "num_champ = {'tier_1' : 39,\n",
        "             'tier_2' : 26,\n",
        "             'tier_3' : 21,\n",
        "             'tier_4' : 13,\n",
        "             'tier_5' : 10\n",
        "             }"
      ],
      "metadata": {
        "id": "eWEpH3HEvJtZ"
      },
      "execution_count": 4,
      "outputs": []
    },
    {
      "cell_type": "code",
      "source": [
        "tiers = [tier_1, tier_2, tier_3, tier_4, tier_5]\n",
        "lvls = [lvl_1, lvl_2, lvl_3, lvl_4, lvl_5, lvl_6, lvl_7, lvl_8, lvl_9]"
      ],
      "metadata": {
        "id": "WvmOEpbwyv5K"
      },
      "execution_count": 5,
      "outputs": []
    },
    {
      "cell_type": "code",
      "source": [
        "lvl = lvl_3\n",
        "champ = 'warkwick'\n",
        "for c,x in enumerate(tiers):  #ciclo para encontrar la tier a la que pertenece el champ seleccionado\n",
        "  for y in x:\n",
        "    if champ == y:\n",
        "      tier_champ = \"tier_{}\".format(c+1)\n",
        "#num_champ['tier_1']\n",
        "\n",
        "total_champs = {}\n",
        "for x,y,z in zip(tiers, num_champ.values(), num_champ.keys()):  #champ totales por cada ties\n",
        "  total_champs[\"{}\".format(z)] = len(x)*y\n",
        "\n",
        "champ_totales_tier = len(tier_champ) * num_champ[tier_champ] # Cantidad total de champ del mismo nivel\n",
        "total = sum(total_champs.values())\n",
        "\n",
        "prob_champ_lvl = {}\n",
        "for key, value in lvl.items():\n",
        "  prob_champ_lvl[key] = value * total_champs[key] / total"
      ],
      "metadata": {
        "id": "xZdC44OSLLBd"
      },
      "execution_count": 22,
      "outputs": []
    },
    {
      "cell_type": "code",
      "source": [
        "prob_champ_lvl"
      ],
      "metadata": {
        "id": "JF1nD9h8EGnG",
        "colab": {
          "base_uri": "https://localhost:8080/"
        },
        "outputId": "58b01a23-6199-41a5-f82d-75f4da64e7d3"
      },
      "execution_count": 23,
      "outputs": [
        {
          "output_type": "execute_result",
          "data": {
            "text/plain": [
              "{'tier_1': 0.2787756598240469,\n",
              " 'tier_2': 0.06195014662756598,\n",
              " 'tier_3': 0.0,\n",
              " 'tier_4': 0.0,\n",
              " 'tier_5': 0.0}"
            ]
          },
          "metadata": {},
          "execution_count": 23
        }
      ]
    },
    {
      "cell_type": "code",
      "source": [
        "class Prob_Champ():\n",
        "    \n",
        "    def __init__(self, champ,lvl):\n",
        "        self.champ = champ\n",
        "\n",
        "    def prob_neta(self,champ):\n",
        "        return "
      ],
      "metadata": {
        "id": "_h3luCP9gYUX"
      },
      "execution_count": null,
      "outputs": []
    }
  ]
}